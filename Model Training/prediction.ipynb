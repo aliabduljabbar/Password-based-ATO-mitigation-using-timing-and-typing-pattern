{
 "cells": [
  {
   "cell_type": "markdown",
   "metadata": {
    "id": "vykXcSSQS963"
   },
   "source": [
    "## Import"
   ]
  },
  {
   "cell_type": "code",
   "execution_count": 83,
   "metadata": {
    "executionInfo": {
     "elapsed": 6176,
     "status": "ok",
     "timestamp": 1638117784321,
     "user": {
      "displayName": "QIIKAII",
      "photoUrl": "https://lh3.googleusercontent.com/a-/AOh14GiJOdYwJsRvwYnsXYnOzQM51xYuWLYsahwvlDNSBQ=s64",
      "userId": "18419578418508292348"
     },
     "user_tz": -480
    },
    "id": "DriiaId_J7TH"
   },
   "outputs": [],
   "source": [
    "import numpy as np\n",
    "import pandas as pd\n",
    "import tensorflow as tf\n",
    "import matplotlib.pyplot as plt\n",
    "from matplotlib import pyplot\n",
    "import seaborn as sns\n",
    "\n",
    "import warnings\n",
    "warnings.filterwarnings('ignore')\n",
    "\n",
    "from keras.utils.np_utils import to_categorical \n",
    "from tensorflow.keras.callbacks import EarlyStopping\n",
    "from keras.models import Sequential\n",
    "from keras.layers import Dense, Dropout, \\\n",
    "    BatchNormalization, Flatten, LSTM\n",
    "# from scikeras.wrappers import KerasClassifier\n",
    "from keras.wrappers.scikit_learn import KerasClassifier\n",
    "from keras.models import load_model\n",
    "\n",
    "from sklearn.preprocessing import MinMaxScaler\n",
    "from sklearn.model_selection import train_test_split\n",
    "# from sklearn.model_selection import StratifiedKFold\n",
    "from sklearn.model_selection import cross_val_score\n",
    "from sklearn.model_selection import KFold\n",
    "from sklearn.metrics import accuracy_score, confusion_matrix\n",
    "from sklearn.metrics import roc_curve, roc_auc_score, auc\n",
    "from sklearn.preprocessing import LabelBinarizer\n",
    "from sklearn.preprocessing import OneHotEncoder\n",
    "\n",
    "from sklearn.metrics import roc_curve, auc\n",
    "\n",
    "from itertools import cycle\n",
    "from scipy import interp\n",
    "from scipy.optimize import brentq\n",
    "from scipy.interpolate import interp1d\n",
    "\n",
    "N_FEATURES = 51\n",
    "TIMESTEPS = 1\n",
    "DATASET_LINK = \"3976184250-1655049260-stripped.csv\"\n",
    "TEST_DATA_LINK = \"3976184250-1655049260-test.csv\"\n",
    "\n",
    "# random seed for reproducibility\n",
    "SEED = 123"
   ]
  },
  {
   "cell_type": "markdown",
   "metadata": {
    "id": "9ljit4YAS97D"
   },
   "source": [
    "### LOAD MODEL"
   ]
  },
  {
   "cell_type": "code",
   "execution_count": 84,
   "metadata": {
    "id": "XA0T_LLzS97D"
   },
   "outputs": [],
   "source": [
    "# ##################\n",
    "# # # load model # #\n",
    "# ##################\n",
    "\n",
    "# model = create_model()\n",
    "model = load_model(\"model/lstm_key_classifier.h5\")"
   ]
  },
  {
   "cell_type": "markdown",
   "metadata": {
    "id": "OC4QSqpaS97D"
   },
   "source": [
    "### LIVE TESTING\n",
    "> * import any new data to perform testing and prediction"
   ]
  },
  {
   "cell_type": "code",
   "execution_count": 85,
   "metadata": {
    "colab": {
     "base_uri": "https://localhost:8080/",
     "height": 224
    },
    "executionInfo": {
     "elapsed": 319,
     "status": "ok",
     "timestamp": 1638119153238,
     "user": {
      "displayName": "QIIKAII",
      "photoUrl": "https://lh3.googleusercontent.com/a-/AOh14GiJOdYwJsRvwYnsXYnOzQM51xYuWLYsahwvlDNSBQ=s64",
      "userId": "18419578418508292348"
     },
     "user_tz": -480
    },
    "id": "no99ee2sVZvL",
    "outputId": "9232e650-f7dc-4249-a0b5-20dba3f2c619",
    "scrolled": true
   },
   "outputs": [
    {
     "data": {
      "text/html": [
       "<div>\n",
       "<style scoped>\n",
       "    .dataframe tbody tr th:only-of-type {\n",
       "        vertical-align: middle;\n",
       "    }\n",
       "\n",
       "    .dataframe tbody tr th {\n",
       "        vertical-align: top;\n",
       "    }\n",
       "\n",
       "    .dataframe thead th {\n",
       "        text-align: right;\n",
       "    }\n",
       "</style>\n",
       "<table border=\"1\" class=\"dataframe\">\n",
       "  <thead>\n",
       "    <tr style=\"text-align: right;\">\n",
       "      <th></th>\n",
       "      <th>Subject</th>\n",
       "      <th>__id__</th>\n",
       "      <th>AvA</th>\n",
       "      <th>AvH</th>\n",
       "      <th>AvP</th>\n",
       "      <th>`DD.0.5`</th>\n",
       "      <th>`DD.1.6`</th>\n",
       "      <th>`DD.2.4`</th>\n",
       "      <th>`DD.4.8`</th>\n",
       "      <th>`DD.5.2`</th>\n",
       "      <th>...</th>\n",
       "      <th>`Size.9`</th>\n",
       "      <th>`UD.0.5`</th>\n",
       "      <th>`UD.1.6`</th>\n",
       "      <th>`UD.2.4`</th>\n",
       "      <th>`UD.4.8`</th>\n",
       "      <th>`UD.5.2`</th>\n",
       "      <th>`UD.6.7`</th>\n",
       "      <th>`UD.7.9`</th>\n",
       "      <th>`UD.8.1`</th>\n",
       "      <th>`UD.9.3`</th>\n",
       "    </tr>\n",
       "  </thead>\n",
       "  <tbody>\n",
       "    <tr>\n",
       "      <th>0</th>\n",
       "      <td>aisha</td>\n",
       "      <td>32EyOh61auQrtt845qqu</td>\n",
       "      <td>30.386073</td>\n",
       "      <td>0.117320</td>\n",
       "      <td>0.207566</td>\n",
       "      <td>0.316371</td>\n",
       "      <td>0.525669</td>\n",
       "      <td>0.183837</td>\n",
       "      <td>0.574917</td>\n",
       "      <td>1.299633</td>\n",
       "      <td>...</td>\n",
       "      <td>29.588976</td>\n",
       "      <td>0.316371</td>\n",
       "      <td>0.525669</td>\n",
       "      <td>0.183837</td>\n",
       "      <td>0.574917</td>\n",
       "      <td>1.299633</td>\n",
       "      <td>0.333369</td>\n",
       "      <td>1.700769</td>\n",
       "      <td>0.949691</td>\n",
       "      <td>0.607718</td>\n",
       "    </tr>\n",
       "    <tr>\n",
       "      <th>1</th>\n",
       "      <td>aisha</td>\n",
       "      <td>4bA0GNx1E4csaTigdnUk</td>\n",
       "      <td>29.442656</td>\n",
       "      <td>0.117420</td>\n",
       "      <td>0.212496</td>\n",
       "      <td>0.349458</td>\n",
       "      <td>3.484031</td>\n",
       "      <td>0.219371</td>\n",
       "      <td>0.813483</td>\n",
       "      <td>0.342324</td>\n",
       "      <td>...</td>\n",
       "      <td>24.210612</td>\n",
       "      <td>0.349458</td>\n",
       "      <td>3.484031</td>\n",
       "      <td>0.219371</td>\n",
       "      <td>0.813483</td>\n",
       "      <td>0.342324</td>\n",
       "      <td>0.608039</td>\n",
       "      <td>0.625773</td>\n",
       "      <td>0.416927</td>\n",
       "      <td>0.908202</td>\n",
       "    </tr>\n",
       "    <tr>\n",
       "      <th>2</th>\n",
       "      <td>aisha</td>\n",
       "      <td>8XMHJ2b4PLrT9XU667dv</td>\n",
       "      <td>29.863961</td>\n",
       "      <td>0.098838</td>\n",
       "      <td>0.219027</td>\n",
       "      <td>0.282859</td>\n",
       "      <td>0.284138</td>\n",
       "      <td>0.192723</td>\n",
       "      <td>0.191222</td>\n",
       "      <td>0.224901</td>\n",
       "      <td>...</td>\n",
       "      <td>28.748535</td>\n",
       "      <td>0.282859</td>\n",
       "      <td>0.284138</td>\n",
       "      <td>0.192723</td>\n",
       "      <td>0.191222</td>\n",
       "      <td>0.224901</td>\n",
       "      <td>0.232967</td>\n",
       "      <td>0.466518</td>\n",
       "      <td>0.207866</td>\n",
       "      <td>0.426501</td>\n",
       "    </tr>\n",
       "    <tr>\n",
       "      <th>3</th>\n",
       "      <td>ali</td>\n",
       "      <td>x1FEHtJP9xDxTOeMGxGD</td>\n",
       "      <td>29.888982</td>\n",
       "      <td>0.088453</td>\n",
       "      <td>0.324981</td>\n",
       "      <td>0.267652</td>\n",
       "      <td>0.215470</td>\n",
       "      <td>0.123510</td>\n",
       "      <td>0.207815</td>\n",
       "      <td>0.200449</td>\n",
       "      <td>...</td>\n",
       "      <td>27.667969</td>\n",
       "      <td>0.267652</td>\n",
       "      <td>0.215470</td>\n",
       "      <td>0.123510</td>\n",
       "      <td>0.207815</td>\n",
       "      <td>0.200449</td>\n",
       "      <td>0.117066</td>\n",
       "      <td>0.200477</td>\n",
       "      <td>0.143154</td>\n",
       "      <td>0.207918</td>\n",
       "    </tr>\n",
       "    <tr>\n",
       "      <th>4</th>\n",
       "      <td>ali</td>\n",
       "      <td>y5GzBnwpg43QOeOzQ28R</td>\n",
       "      <td>27.805260</td>\n",
       "      <td>0.077486</td>\n",
       "      <td>0.211683</td>\n",
       "      <td>0.233024</td>\n",
       "      <td>0.932978</td>\n",
       "      <td>0.163148</td>\n",
       "      <td>0.449982</td>\n",
       "      <td>0.194738</td>\n",
       "      <td>...</td>\n",
       "      <td>27.667969</td>\n",
       "      <td>0.233024</td>\n",
       "      <td>0.932978</td>\n",
       "      <td>0.163148</td>\n",
       "      <td>0.449982</td>\n",
       "      <td>0.194738</td>\n",
       "      <td>0.165819</td>\n",
       "      <td>0.199959</td>\n",
       "      <td>0.192599</td>\n",
       "      <td>0.201954</td>\n",
       "    </tr>\n",
       "  </tbody>\n",
       "</table>\n",
       "<p>5 rows × 53 columns</p>\n",
       "</div>"
      ],
      "text/plain": [
       "  Subject                __id__        AvA       AvH       AvP  `DD.0.5`  \\\n",
       "0   aisha  32EyOh61auQrtt845qqu  30.386073  0.117320  0.207566  0.316371   \n",
       "1   aisha  4bA0GNx1E4csaTigdnUk  29.442656  0.117420  0.212496  0.349458   \n",
       "2   aisha  8XMHJ2b4PLrT9XU667dv  29.863961  0.098838  0.219027  0.282859   \n",
       "3     ali  x1FEHtJP9xDxTOeMGxGD  29.888982  0.088453  0.324981  0.267652   \n",
       "4     ali  y5GzBnwpg43QOeOzQ28R  27.805260  0.077486  0.211683  0.233024   \n",
       "\n",
       "   `DD.1.6`  `DD.2.4`  `DD.4.8`  `DD.5.2`  ...   `Size.9`  `UD.0.5`  `UD.1.6`  \\\n",
       "0  0.525669  0.183837  0.574917  1.299633  ...  29.588976  0.316371  0.525669   \n",
       "1  3.484031  0.219371  0.813483  0.342324  ...  24.210612  0.349458  3.484031   \n",
       "2  0.284138  0.192723  0.191222  0.224901  ...  28.748535  0.282859  0.284138   \n",
       "3  0.215470  0.123510  0.207815  0.200449  ...  27.667969  0.267652  0.215470   \n",
       "4  0.932978  0.163148  0.449982  0.194738  ...  27.667969  0.233024  0.932978   \n",
       "\n",
       "   `UD.2.4`  `UD.4.8`  `UD.5.2`  `UD.6.7`  `UD.7.9`  `UD.8.1`  `UD.9.3`  \n",
       "0  0.183837  0.574917  1.299633  0.333369  1.700769  0.949691  0.607718  \n",
       "1  0.219371  0.813483  0.342324  0.608039  0.625773  0.416927  0.908202  \n",
       "2  0.192723  0.191222  0.224901  0.232967  0.466518  0.207866  0.426501  \n",
       "3  0.123510  0.207815  0.200449  0.117066  0.200477  0.143154  0.207918  \n",
       "4  0.163148  0.449982  0.194738  0.165819  0.199959  0.192599  0.201954  \n",
       "\n",
       "[5 rows x 53 columns]"
      ]
     },
     "execution_count": 85,
     "metadata": {},
     "output_type": "execute_result"
    }
   ],
   "source": [
    "# import unseen data\n",
    "pred_df = pd.read_csv(TEST_DATA_LINK)\n",
    "pred_df['Subject'] = pred_df['Subject'].str.replace('@yopmail.com','')\n",
    "pred_df['Subject'] = pred_df['Subject'].str.replace('@gmail.com','')\n",
    "pred_df['Subject'] = pred_df['Subject'].str.replace('alithnks','ali')\n",
    "\n",
    "column_to_reorder = pred_df.pop('Subject')\n",
    "\n",
    "pred_df.insert(0, 'Subject', column_to_reorder)\n",
    "pred_df.head()"
   ]
  },
  {
   "cell_type": "code",
   "execution_count": 86,
   "metadata": {
    "colab": {
     "base_uri": "https://localhost:8080/",
     "height": 301
    },
    "executionInfo": {
     "elapsed": 593,
     "status": "ok",
     "timestamp": 1638119156672,
     "user": {
      "displayName": "QIIKAII",
      "photoUrl": "https://lh3.googleusercontent.com/a-/AOh14GiJOdYwJsRvwYnsXYnOzQM51xYuWLYsahwvlDNSBQ=s64",
      "userId": "18419578418508292348"
     },
     "user_tz": -480
    },
    "id": "T7zBVAvvS97D",
    "outputId": "3b3b3735-244a-4eec-9227-8ffda9860f42"
   },
   "outputs": [
    {
     "data": {
      "image/png": "[encoded data removed]",
      "text/plain": [
       "<Figure size 432x288 with 1 Axes>"
      ]
     },
     "metadata": {},
     "output_type": "display_data"
    }
   ],
   "source": [
    "################################\n",
    "# # check for class validity # #\n",
    "################################\n",
    "sns.set_theme(style=\"darkgrid\")\n",
    "ax = sns.countplot(x=\"Subject\", data=pred_df).set_title(\"Class Validity\")\n",
    "\n",
    "# remove missing values if available\n",
    "pred_df = pred_df.dropna()"
   ]
  },
  {
   "cell_type": "code",
   "execution_count": 93,
   "metadata": {
    "executionInfo": {
     "elapsed": 287,
     "status": "ok",
     "timestamp": 1638119159318,
     "user": {
      "displayName": "QIIKAII",
      "photoUrl": "https://lh3.googleusercontent.com/a-/AOh14GiJOdYwJsRvwYnsXYnOzQM51xYuWLYsahwvlDNSBQ=s64",
      "userId": "18419578418508292348"
     },
     "user_tz": -480
    },
    "id": "vvmUbcekS97E"
   },
   "outputs": [],
   "source": [
    "pred_dataset = pred_df.values\n",
    "\n",
    "# # divide data into features X\n",
    "# pred_row = pred_dataset[:,3:].astype(float)\n",
    "\n",
    "#################################\n",
    "# # predict more than one row # #\n",
    "#################################\n",
    "\n",
    "# pred_row=pred_df.iloc[:,3:]\n",
    "\n",
    "# print(pred_row)\n",
    "############################\n",
    "# # predict a single row # #\n",
    "############################\n",
    "\n",
    "pred_row=pred_df.iloc[:12,2:]\n",
    "\n",
    "################################\n",
    "# # normalise and shape data # #\n",
    "################################\n",
    "pred_row = pred_row.values.tolist()\n",
    "# pred_row = scaler.transform(pred_row)\n",
    "pred_arr = np.asarray(pred_row, dtype=np.float32)\n",
    "pred_arr = np.reshape(pred_arr, (pred_arr.shape[0], TIMESTEPS, pred_arr.shape[1]))\n",
    "\n",
    "Y = ['aisha', 'ramla', 'umer', 'alithnks', 'saad']\n",
    "Y = np.asarray(Y)\n",
    "Y = Y.reshape(-1, 1)\n",
    "lb = LabelBinarizer().fit(Y)\n",
    "Y = lb.transform(Y)"
   ]
  },
  {
   "cell_type": "code",
   "execution_count": 94,
   "metadata": {
    "colab": {
     "base_uri": "https://localhost:8080/"
    },
    "executionInfo": {
     "elapsed": 293,
     "status": "ok",
     "timestamp": 1638119225760,
     "user": {
      "displayName": "QIIKAII",
      "photoUrl": "https://lh3.googleusercontent.com/a-/AOh14GiJOdYwJsRvwYnsXYnOzQM51xYuWLYsahwvlDNSBQ=s64",
      "userId": "18419578418508292348"
     },
     "user_tz": -480
    },
    "id": "bZF7p6lFVZxE",
    "outputId": "d2a2b7e0-beb0-434c-fc3b-62e057968477"
   },
   "outputs": [
    {
     "name": "stdout",
     "output_type": "stream",
     "text": [
      "1/1 [==============================] - 0s 17ms/step\n",
      "   Prediction    Accuracy\n",
      "0       aisha   0.6969647\n",
      "1       aisha  0.92415464\n",
      "2       aisha  0.64750534\n",
      "3    alithnks  0.91037625\n",
      "4    alithnks    0.905103\n",
      "5    alithnks  0.90502083\n",
      "6       ramla  0.99574786\n",
      "7       ramla  0.95465946\n",
      "8       ramla   0.9844536\n",
      "9        saad    0.997033\n",
      "10       saad  0.99771357\n",
      "11       saad   0.9295934\n"
     ]
    }
   ],
   "source": [
    "####################################\n",
    "# # get prediction and its label # #\n",
    "####################################\n",
    "\n",
    "pred_proba = model.predict(pred_arr)\n",
    "pred = lb.inverse_transform(pred_proba)\n",
    "acc = np.max(pred_proba, axis=1)\n",
    "\n",
    "pred_results = np.column_stack((pred, acc))\n",
    "\n",
    "df = pd.DataFrame(data=pred_results, index=None, columns=['Prediction', 'Accuracy'])\n",
    "print(df)"
   ]
  },
  {
   "cell_type": "code",
   "execution_count": null,
   "metadata": {
    "id": "VuDhUKwwS97E"
   },
   "outputs": [],
   "source": []
  },
  {
   "cell_type": "code",
   "execution_count": null,
   "metadata": {},
   "outputs": [],
   "source": []
  },
  {
   "cell_type": "code",
   "execution_count": null,
   "metadata": {},
   "outputs": [],
   "source": []
  },
  {
   "cell_type": "code",
   "execution_count": null,
   "metadata": {},
   "outputs": [],
   "source": []
  }
 ],
 "metadata": {
  "accelerator": "GPU",
  "colab": {
   "collapsed_sections": [
    "qxwawov4S96_",
    "GOSGgRxamf1f"
   ],
   "name": "keystroke.ipynb",
   "provenance": []
  },
  "interpreter": {
   "hash": "31f2aee4e71d21fbe5cf8b01ff0e069b9275f58929596ceb00d14d90e3e16cd6"
  },
  "kernelspec": {
   "display_name": "Python 3.8.9 64-bit",
   "language": "python",
   "name": "python3"
  },
  "language_info": {
   "codemirror_mode": {
    "name": "ipython",
    "version": 3
   },
   "file_extension": ".py",
   "mimetype": "text/x-python",
   "name": "python",
   "nbconvert_exporter": "python",
   "pygments_lexer": "ipython3",
   "version": "3.8.9"
  }
 },
 "nbformat": 4,
 "nbformat_minor": 1
}
